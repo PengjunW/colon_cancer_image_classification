{
 "cells": [
  {
   "cell_type": "markdown",
   "metadata": {},
   "source": [
    "## Adversarial-validation"
   ]
  },
  {
   "cell_type": "markdown",
   "metadata": {},
   "source": [
    "#### In this coursework, we know that the test set and the training set are two different distributions. Thus, I want to use a basic model to find whethere  the model can identify images from different sets. The AUC is good criterion to apply this work"
   ]
  },
  {
   "cell_type": "code",
   "execution_count": 67,
   "metadata": {
    "execution": {
     "iopub.execute_input": "2021-05-23T11:34:11.991475Z",
     "iopub.status.busy": "2021-05-23T11:34:11.991135Z",
     "iopub.status.idle": "2021-05-23T11:34:12.003699Z",
     "shell.execute_reply": "2021-05-23T11:34:12.002647Z",
     "shell.execute_reply.started": "2021-05-23T11:34:11.991445Z"
    }
   },
   "outputs": [],
   "source": [
    "import os, sys\n",
    "import pandas as pd\n",
    "import numpy as np\n",
    "from PIL import Image\n",
    "import matplotlib.pyplot as plt\n",
    "from collections import Counter\n",
    "from tqdm.notebook import tqdm\n",
    "import albumentations as A\n",
    "\n",
    "import seaborn as sns\n",
    "from sklearn.preprocessing import LabelEncoder\n",
    "from sklearn.model_selection import train_test_split, StratifiedKFold, KFold, StratifiedShuffleSplit\n",
    "from sklearn.metrics import precision_score, recall_score, f1_score, accuracy_score, classification_report, confusion_matrix\n",
    "from imblearn import over_sampling, under_sampling, combine\n",
    "from sklearn.metrics import roc_auc_score as AUC\n",
    "from sklearn import metrics\n",
    "import pylab as plt\n",
    "import warnings;warnings.filterwarnings('ignore')\n",
    "\n",
    "import torch\n",
    "from torch.utils.data import Dataset, DataLoader, WeightedRandomSampler, random_split\n",
    "import torchvision.models as models\n",
    "import torchvision.transforms as transforms\n",
    "import torch.nn as nn\n",
    "import torch.nn.functional as F\n",
    "import torch.optim as optim\n",
    "\n",
    "torch.manual_seed(0)\n",
    "torch.cuda.manual_seed_all(0)\n",
    "torch.backends.cudnn.deterministic = False\n",
    "torch.backends.cudnn.benchmark = True\n",
    "device = torch.device('cuda') if torch.cuda.is_available() else torch.device('cpu')"
   ]
  },
  {
   "cell_type": "code",
   "execution_count": 41,
   "metadata": {
    "execution": {
     "iopub.execute_input": "2021-05-23T10:47:47.256270Z",
     "iopub.status.busy": "2021-05-23T10:47:47.255926Z",
     "iopub.status.idle": "2021-05-23T10:47:47.261735Z",
     "shell.execute_reply": "2021-05-23T10:47:47.260739Z",
     "shell.execute_reply.started": "2021-05-23T10:47:47.256237Z"
    }
   },
   "outputs": [],
   "source": [
    "PATH='./checkpoint/'"
   ]
  },
  {
   "cell_type": "markdown",
   "metadata": {},
   "source": [
    "## Functions"
   ]
  },
  {
   "cell_type": "code",
   "execution_count": 54,
   "metadata": {
    "execution": {
     "iopub.execute_input": "2021-05-23T11:13:13.286849Z",
     "iopub.status.busy": "2021-05-23T11:13:13.286491Z",
     "iopub.status.idle": "2021-05-23T11:13:13.293947Z",
     "shell.execute_reply": "2021-05-23T11:13:13.292587Z",
     "shell.execute_reply.started": "2021-05-23T11:13:13.286819Z"
    }
   },
   "outputs": [],
   "source": [
    "class ImageDataset(Dataset):\n",
    "    def __init__(self, img_df, transform=None):\n",
    "        self.img_df = img_df\n",
    "        if transform is not None:\n",
    "            self.transform = transform\n",
    "        else:\n",
    "            self.transform = None\n",
    "    \n",
    "    def __getitem__(self, index):\n",
    "        img = Image.open(self.img_df.iloc[index]['Id']).convert('RGB')\n",
    "        \n",
    "        if self.transform is not None:\n",
    "            img = self.transform(img)\n",
    "        return img,torch.from_numpy(np.array(self.img_df.iloc[index]['Type']))\n",
    "    \n",
    "    def __len__(self):\n",
    "        return len(self.img_df)"
   ]
  },
  {
   "cell_type": "code",
   "execution_count": 53,
   "metadata": {
    "execution": {
     "iopub.execute_input": "2021-05-23T11:13:09.379687Z",
     "iopub.status.busy": "2021-05-23T11:13:09.379338Z",
     "iopub.status.idle": "2021-05-23T11:13:09.386466Z",
     "shell.execute_reply": "2021-05-23T11:13:09.385426Z",
     "shell.execute_reply.started": "2021-05-23T11:13:09.379653Z"
    }
   },
   "outputs": [],
   "source": [
    "class ImageDataset_Adversarial(Dataset):\n",
    "    def __init__(self, img_df, transform=None):\n",
    "        self.img_df = img_df\n",
    "        if transform is not None:\n",
    "            self.transform = transform\n",
    "        else:\n",
    "            self.transform = None\n",
    "    \n",
    "    def __getitem__(self, index):\n",
    "        img = Image.open(self.img_df.iloc[index]['Path']).convert('RGB')\n",
    "        \n",
    "        if self.transform is not None:\n",
    "            img = self.transform(img)\n",
    "        return img,torch.from_numpy(np.array(self.img_df.iloc[index]['is_test']))\n",
    "    \n",
    "    def __len__(self):\n",
    "        return len(self.img_df)"
   ]
  },
  {
   "cell_type": "code",
   "execution_count": 57,
   "metadata": {
    "execution": {
     "iopub.execute_input": "2021-05-23T11:14:31.818117Z",
     "iopub.status.busy": "2021-05-23T11:14:31.817786Z",
     "iopub.status.idle": "2021-05-23T11:14:31.826071Z",
     "shell.execute_reply": "2021-05-23T11:14:31.824807Z",
     "shell.execute_reply.started": "2021-05-23T11:14:31.818086Z"
    }
   },
   "outputs": [],
   "source": [
    "class CellNet(nn.Module):\n",
    "    def __init__(self):\n",
    "        super(CellNet, self).__init__()\n",
    "                \n",
    "        model_conv = models.resnet34(pretrained=True)\n",
    "        model_conv.avgpool = nn.AdaptiveAvgPool2d(1)\n",
    "        model_conv = nn.Sequential(*list(model_conv.children())[:-1])\n",
    "        self.cnn = model_conv\n",
    "        self.fc = nn.Linear(512, 2)\n",
    "        \n",
    "    def forward(self, img):        \n",
    "        feat = self.cnn(img)\n",
    "        feat = feat.view(feat.shape[0], -1)\n",
    "        out = self.fc(feat)\n",
    "        return out"
   ]
  },
  {
   "cell_type": "code",
   "execution_count": 5,
   "metadata": {
    "execution": {
     "iopub.execute_input": "2021-05-23T10:31:54.800271Z",
     "iopub.status.busy": "2021-05-23T10:31:54.799955Z",
     "iopub.status.idle": "2021-05-23T10:31:54.806149Z",
     "shell.execute_reply": "2021-05-23T10:31:54.805208Z",
     "shell.execute_reply.started": "2021-05-23T10:31:54.800240Z"
    }
   },
   "outputs": [],
   "source": [
    "class AverageMeter(object):\n",
    "    def __init__(self):\n",
    "        self.reset()\n",
    "\n",
    "    def reset(self):\n",
    "        self.val = 0\n",
    "        self.avg = 0\n",
    "        self.sum = 0\n",
    "        self.count = 0\n",
    "\n",
    "    def update(self, val, n=1):\n",
    "        self.val = val\n",
    "        self.sum += val * n\n",
    "        self.count += n\n",
    "        self.avg = self.sum / self.count"
   ]
  },
  {
   "cell_type": "code",
   "execution_count": 6,
   "metadata": {
    "execution": {
     "iopub.execute_input": "2021-05-23T10:31:59.533317Z",
     "iopub.status.busy": "2021-05-23T10:31:59.532987Z",
     "iopub.status.idle": "2021-05-23T10:31:59.538977Z",
     "shell.execute_reply": "2021-05-23T10:31:59.538035Z",
     "shell.execute_reply.started": "2021-05-23T10:31:59.533286Z"
    }
   },
   "outputs": [],
   "source": [
    "def accuracy(output, target, topk=(1, 2)):\n",
    "    maxk = max(topk)\n",
    "    batch_size = target.size(0)\n",
    "    _, pred = output.topk(maxk, 1, True, True)\n",
    "    pred = pred.t()\n",
    "    correct = pred.eq(target.view(1, -1).expand_as(pred))\n",
    "    res = []\n",
    "    for k in topk:\n",
    "        correct_k = correct[:k].reshape(-1).float().sum(0, keepdim=True)\n",
    "        res.append(correct_k / batch_size)\n",
    "    return res"
   ]
  },
  {
   "cell_type": "code",
   "execution_count": 44,
   "metadata": {
    "execution": {
     "iopub.execute_input": "2021-05-23T10:49:22.627905Z",
     "iopub.status.busy": "2021-05-23T10:49:22.627537Z",
     "iopub.status.idle": "2021-05-23T10:49:22.636795Z",
     "shell.execute_reply": "2021-05-23T10:49:22.635884Z",
     "shell.execute_reply.started": "2021-05-23T10:49:22.627874Z"
    }
   },
   "outputs": [],
   "source": [
    "def train(train_loader, model, criterion, optimizer):\n",
    "    # switch to train mode\n",
    "    model.train()\n",
    "\n",
    "    losses = AverageMeter()\n",
    "    top1 = AverageMeter()\n",
    "    top2 = AverageMeter()\n",
    "\n",
    "    for inputs, targets in train_loader:\n",
    "\n",
    "        inputs = inputs.to(device)\n",
    "        targets = targets.to(device)\n",
    "\n",
    "        # compute output\n",
    "        outputs = model(inputs)\n",
    "        loss = criterion(outputs, targets)\n",
    "\n",
    "        # measure accuracy and record loss\n",
    "        prec1, prec2 = accuracy(outputs, targets, topk=(1, 2))\n",
    "        losses.update(loss.item(), inputs.size(0))\n",
    "        top1.update(prec1.item(), inputs.size(0))\n",
    "        top2.update(prec2.item(), inputs.size(0))\n",
    "\n",
    "        # compute gradient\n",
    "        optimizer.zero_grad()\n",
    "        loss.backward()\n",
    "        optimizer.step()\n",
    "\n",
    "    return (losses.avg, top1.avg, top2.avg)"
   ]
  },
  {
   "cell_type": "code",
   "execution_count": 45,
   "metadata": {
    "execution": {
     "iopub.execute_input": "2021-05-23T10:49:33.092970Z",
     "iopub.status.busy": "2021-05-23T10:49:33.092649Z",
     "iopub.status.idle": "2021-05-23T10:49:33.100103Z",
     "shell.execute_reply": "2021-05-23T10:49:33.098959Z",
     "shell.execute_reply.started": "2021-05-23T10:49:33.092940Z"
    }
   },
   "outputs": [],
   "source": [
    "def val(val_loader, model, criterion):\n",
    "\n",
    "    losses = AverageMeter()\n",
    "    top1 = AverageMeter()\n",
    "    top2 = AverageMeter()\n",
    "\n",
    "    # switch to evaluate mode\n",
    "    model.eval()\n",
    "    for inputs, targets in val_loader:\n",
    "\n",
    "        inputs = inputs.to(device)\n",
    "        targets = targets.to(device)\n",
    "\n",
    "        # compute output\n",
    "        outputs = model(inputs)\n",
    "        loss = criterion(outputs, targets)\n",
    "\n",
    "        # measure accuracy and record loss\n",
    "        prec1, prec2 = accuracy(outputs, targets, topk=(1, 2))\n",
    "        losses.update(loss.item(), inputs.size(0))\n",
    "        top1.update(prec1.item(), inputs.size(0))\n",
    "        top2.update(prec2.item(), inputs.size(0))\n",
    "\n",
    "    return (losses.avg, top1.avg, top2.avg)"
   ]
  },
  {
   "cell_type": "code",
   "execution_count": 9,
   "metadata": {
    "execution": {
     "iopub.execute_input": "2021-05-23T10:32:27.866344Z",
     "iopub.status.busy": "2021-05-23T10:32:27.866019Z",
     "iopub.status.idle": "2021-05-23T10:32:27.874956Z",
     "shell.execute_reply": "2021-05-23T10:32:27.874203Z",
     "shell.execute_reply.started": "2021-05-23T10:32:27.866313Z"
    }
   },
   "outputs": [],
   "source": [
    "def predict(test_loader, model, tta=1):\n",
    "    # switch to evaluate mode\n",
    "    model.eval()\n",
    "\n",
    "    test_pred_tta = None\n",
    "    for _ in range(tta):\n",
    "        test_pred = []\n",
    "        with torch.no_grad():\n",
    "            for i, (input,target) in enumerate(test_loader):\n",
    "                input = input.to(device)\n",
    "                # compute output\n",
    "                output = model(input)\n",
    "                output = output.data.cpu().numpy()\n",
    "\n",
    "                test_pred.append(output)\n",
    "        test_pred = np.vstack(test_pred)\n",
    "    \n",
    "        if test_pred_tta is None:\n",
    "            test_pred_tta = test_pred\n",
    "        else:\n",
    "            test_pred_tta += test_pred\n",
    "    \n",
    "    return test_pred_tta"
   ]
  },
  {
   "cell_type": "code",
   "execution_count": 78,
   "metadata": {
    "execution": {
     "iopub.execute_input": "2021-05-23T11:39:42.971405Z",
     "iopub.status.busy": "2021-05-23T11:39:42.970948Z",
     "iopub.status.idle": "2021-05-23T11:39:42.983455Z",
     "shell.execute_reply": "2021-05-23T11:39:42.982635Z",
     "shell.execute_reply.started": "2021-05-23T11:39:42.971362Z"
    }
   },
   "outputs": [],
   "source": [
    "def predict_val(test_loader, model, tta=1):\n",
    "    # switch to evaluate mode\n",
    "    model.eval()\n",
    "\n",
    "    test_pred_tta = None\n",
    "    for _ in range(tta):\n",
    "        test_pred = []\n",
    "        with torch.no_grad():\n",
    "            for i, (input,target) in enumerate(test_loader):\n",
    "                input = input.to(device)\n",
    "                # compute output\n",
    "                output = model(input)\n",
    "                probs = F.softmax(output, dim=1)\n",
    "                probs = probs.data.cpu().numpy()[:,1]\n",
    "                test_pred=np.hstack((test_pred,probs))\n",
    "    \n",
    "    return test_pred"
   ]
  },
  {
   "cell_type": "code",
   "execution_count": 12,
   "metadata": {
    "execution": {
     "iopub.execute_input": "2021-05-23T10:33:47.325942Z",
     "iopub.status.busy": "2021-05-23T10:33:47.325585Z",
     "iopub.status.idle": "2021-05-23T10:33:47.332529Z",
     "shell.execute_reply": "2021-05-23T10:33:47.331714Z",
     "shell.execute_reply.started": "2021-05-23T10:33:47.325912Z"
    }
   },
   "outputs": [],
   "source": [
    "def get_mean_and_std(dataset):\n",
    "    '''Compute the mean and std value of dataset.'''\n",
    "    dataloader = DataLoader(dataset, batch_size=1, shuffle=True)\n",
    "\n",
    "    mean = torch.zeros(3).to(device)\n",
    "    std = torch.zeros(3).to(device)\n",
    "    print('==> Computing mean and std..')\n",
    "    for inputs in dataloader:\n",
    "        for i in range(3):\n",
    "            mean[i] += inputs[:,i,:,:].mean().to(device)\n",
    "            std[i] += inputs[:,i,:,:].std().to(device)\n",
    "    mean.div_(len(dataset))\n",
    "    std.div_(len(dataset))\n",
    "    return mean, std"
   ]
  },
  {
   "cell_type": "code",
   "execution_count": 13,
   "metadata": {
    "execution": {
     "iopub.execute_input": "2021-05-23T10:34:08.094053Z",
     "iopub.status.busy": "2021-05-23T10:34:08.093727Z",
     "iopub.status.idle": "2021-05-23T10:34:08.100402Z",
     "shell.execute_reply": "2021-05-23T10:34:08.099565Z",
     "shell.execute_reply.started": "2021-05-23T10:34:08.094022Z"
    }
   },
   "outputs": [],
   "source": [
    "class TestDataset(Dataset):\n",
    "    \n",
    "    def __init__(self, img_path, transform=None,img_label=None, ):\n",
    "        self.img_path = img_path\n",
    "        self.img_label = img_label\n",
    "        \n",
    "        if img_label is not None:\n",
    "            self.img_label = torch.LongTensor(img_label)\n",
    "            \n",
    "        self.transform = transform\n",
    "        \n",
    "    def __len__(self):\n",
    "        return len(self.img_path)\n",
    "    \n",
    "    def __getitem__(self, index):\n",
    "        img = Image.open(self.img_path[index])\n",
    "        if self.transform is not None:\n",
    "            img = self.transform(img)\n",
    "        if self.img_label is not None:\n",
    "            label = self.img_label[index]\n",
    "            return img, label\n",
    "        else:\n",
    "            return img"
   ]
  },
  {
   "cell_type": "markdown",
   "metadata": {},
   "source": [
    "### Load the dataset\n",
    "\n",
    "**set the trainset as '0' class and the testset as '1' class**"
   ]
  },
  {
   "cell_type": "code",
   "execution_count": 29,
   "metadata": {
    "execution": {
     "iopub.execute_input": "2021-05-23T10:41:23.742920Z",
     "iopub.status.busy": "2021-05-23T10:41:23.742598Z",
     "iopub.status.idle": "2021-05-23T10:41:23.756798Z",
     "shell.execute_reply": "2021-05-23T10:41:23.756080Z",
     "shell.execute_reply.started": "2021-05-23T10:41:23.742892Z"
    }
   },
   "outputs": [],
   "source": [
    "train_label=pd.read_csv('../input/deep-learning-for-msc-coursework-2021/train.csv')\n",
    "train_label['Path']= train_label['Id'].apply(lambda x: '../input/deep-learning-for-msc-coursework-2021/train/train/'+str(x)+'.png')\n",
    "train_label['is_test']=0"
   ]
  },
  {
   "cell_type": "code",
   "execution_count": 30,
   "metadata": {
    "execution": {
     "iopub.execute_input": "2021-05-23T10:41:24.655717Z",
     "iopub.status.busy": "2021-05-23T10:41:24.655310Z",
     "iopub.status.idle": "2021-05-23T10:41:24.666310Z",
     "shell.execute_reply": "2021-05-23T10:41:24.665183Z",
     "shell.execute_reply.started": "2021-05-23T10:41:24.655673Z"
    }
   },
   "outputs": [],
   "source": [
    "test_label=pd.read_csv('../input/deep-learning-for-msc-coursework-2021/example.csv')\n",
    "test_label['Path']= test_label['Id'].apply(lambda x: '../input/deep-learning-for-msc-coursework-2021/test/test/'+str(x)+'.png')\n",
    "test_label['is_test']=1"
   ]
  },
  {
   "cell_type": "code",
   "execution_count": 31,
   "metadata": {
    "execution": {
     "iopub.execute_input": "2021-05-23T10:41:25.831903Z",
     "iopub.status.busy": "2021-05-23T10:41:25.831517Z",
     "iopub.status.idle": "2021-05-23T10:41:25.842699Z",
     "shell.execute_reply": "2021-05-23T10:41:25.841625Z",
     "shell.execute_reply.started": "2021-05-23T10:41:25.831869Z"
    }
   },
   "outputs": [],
   "source": [
    "test_df = pd.concat([train_label,test_label])"
   ]
  },
  {
   "cell_type": "code",
   "execution_count": 33,
   "metadata": {
    "execution": {
     "iopub.execute_input": "2021-05-23T10:41:55.015688Z",
     "iopub.status.busy": "2021-05-23T10:41:55.015353Z",
     "iopub.status.idle": "2021-05-23T10:41:55.028778Z",
     "shell.execute_reply": "2021-05-23T10:41:55.027824Z",
     "shell.execute_reply.started": "2021-05-23T10:41:55.015651Z"
    }
   },
   "outputs": [
    {
     "data": {
      "text/html": [
       "<div>\n",
       "<style scoped>\n",
       "    .dataframe tbody tr th:only-of-type {\n",
       "        vertical-align: middle;\n",
       "    }\n",
       "\n",
       "    .dataframe tbody tr th {\n",
       "        vertical-align: top;\n",
       "    }\n",
       "\n",
       "    .dataframe thead th {\n",
       "        text-align: right;\n",
       "    }\n",
       "</style>\n",
       "<table border=\"1\" class=\"dataframe\">\n",
       "  <thead>\n",
       "    <tr style=\"text-align: right;\">\n",
       "      <th></th>\n",
       "      <th>Id</th>\n",
       "      <th>Type</th>\n",
       "      <th>Path</th>\n",
       "      <th>is_test</th>\n",
       "    </tr>\n",
       "  </thead>\n",
       "  <tbody>\n",
       "    <tr>\n",
       "      <th>0</th>\n",
       "      <td>1</td>\n",
       "      <td>Connective</td>\n",
       "      <td>../input/deep-learning-for-msc-coursework-2021...</td>\n",
       "      <td>0</td>\n",
       "    </tr>\n",
       "    <tr>\n",
       "      <th>1</th>\n",
       "      <td>2</td>\n",
       "      <td>Connective</td>\n",
       "      <td>../input/deep-learning-for-msc-coursework-2021...</td>\n",
       "      <td>0</td>\n",
       "    </tr>\n",
       "    <tr>\n",
       "      <th>2</th>\n",
       "      <td>3</td>\n",
       "      <td>Connective</td>\n",
       "      <td>../input/deep-learning-for-msc-coursework-2021...</td>\n",
       "      <td>0</td>\n",
       "    </tr>\n",
       "    <tr>\n",
       "      <th>3</th>\n",
       "      <td>4</td>\n",
       "      <td>Connective</td>\n",
       "      <td>../input/deep-learning-for-msc-coursework-2021...</td>\n",
       "      <td>0</td>\n",
       "    </tr>\n",
       "    <tr>\n",
       "      <th>4</th>\n",
       "      <td>5</td>\n",
       "      <td>Connective</td>\n",
       "      <td>../input/deep-learning-for-msc-coursework-2021...</td>\n",
       "      <td>0</td>\n",
       "    </tr>\n",
       "  </tbody>\n",
       "</table>\n",
       "</div>"
      ],
      "text/plain": [
       "   Id        Type                                               Path  is_test\n",
       "0   1  Connective  ../input/deep-learning-for-msc-coursework-2021...        0\n",
       "1   2  Connective  ../input/deep-learning-for-msc-coursework-2021...        0\n",
       "2   3  Connective  ../input/deep-learning-for-msc-coursework-2021...        0\n",
       "3   4  Connective  ../input/deep-learning-for-msc-coursework-2021...        0\n",
       "4   5  Connective  ../input/deep-learning-for-msc-coursework-2021...        0"
      ]
     },
     "execution_count": 33,
     "metadata": {},
     "output_type": "execute_result"
    }
   ],
   "source": [
    "test_df.head()"
   ]
  },
  {
   "cell_type": "code",
   "execution_count": 34,
   "metadata": {
    "execution": {
     "iopub.execute_input": "2021-05-23T10:42:04.113210Z",
     "iopub.status.busy": "2021-05-23T10:42:04.112890Z",
     "iopub.status.idle": "2021-05-23T10:42:04.123643Z",
     "shell.execute_reply": "2021-05-23T10:42:04.122955Z",
     "shell.execute_reply.started": "2021-05-23T10:42:04.113172Z"
    }
   },
   "outputs": [
    {
     "data": {
      "text/plain": [
       "0    2190\n",
       "1     400\n",
       "Name: is_test, dtype: int64"
      ]
     },
     "execution_count": 34,
     "metadata": {},
     "output_type": "execute_result"
    }
   ],
   "source": [
    "test_df['is_test'].value_counts()"
   ]
  },
  {
   "cell_type": "code",
   "execution_count": 42,
   "metadata": {
    "execution": {
     "iopub.execute_input": "2021-05-23T10:48:31.258848Z",
     "iopub.status.busy": "2021-05-23T10:48:31.258500Z",
     "iopub.status.idle": "2021-05-23T10:48:31.265069Z",
     "shell.execute_reply": "2021-05-23T10:48:31.264205Z",
     "shell.execute_reply.started": "2021-05-23T10:48:31.258818Z"
    }
   },
   "outputs": [],
   "source": [
    "MODEL_NAME='Adversarial_Validation'"
   ]
  },
  {
   "cell_type": "markdown",
   "metadata": {},
   "source": [
    "### Use the basic model to do Kfold and get the best model which get the higest auc scores"
   ]
  },
  {
   "cell_type": "code",
   "execution_count": 58,
   "metadata": {
    "execution": {
     "iopub.execute_input": "2021-05-23T11:14:34.895040Z",
     "iopub.status.busy": "2021-05-23T11:14:34.894695Z",
     "iopub.status.idle": "2021-05-23T11:25:55.927165Z",
     "shell.execute_reply": "2021-05-23T11:25:55.926172Z",
     "shell.execute_reply.started": "2021-05-23T11:14:34.895013Z"
    }
   },
   "outputs": [
    {
     "name": "stderr",
     "output_type": "stream",
     "text": [
      "Downloading: \"https://download.pytorch.org/models/resnet34-333f7ec4.pth\" to /root/.cache/torch/hub/checkpoints/resnet34-333f7ec4.pth\n"
     ]
    },
    {
     "data": {
      "application/vnd.jupyter.widget-view+json": {
       "model_id": "71d08a962cd84750a6dd2a6b141432af",
       "version_major": 2,
       "version_minor": 0
      },
      "text/plain": [
       "  0%|          | 0.00/83.3M [00:00<?, ?B/s]"
      ]
     },
     "metadata": {},
     "output_type": "display_data"
    },
    {
     "name": "stdout",
     "output_type": "stream",
     "text": [
      "fold 1 AUC: 79.18%\n",
      "\n",
      "fold 2 AUC: 81.82%\n",
      "\n",
      "fold 3 AUC: 78.06%\n",
      "\n",
      "fold 4 AUC: 81.63%\n",
      "\n",
      "fold 5 AUC: 79.50%\n",
      "\n"
     ]
    }
   ],
   "source": [
    "best_auc=0\n",
    "skf = KFold(n_splits=5, random_state=42, shuffle=True)\n",
    "for flod_idx, (train_idx, val_idx) in enumerate(skf.split(test_df['Id'].values)):\n",
    "    train_loader = DataLoader(\n",
    "            ImageDataset_Adversarial(test_df.iloc[train_idx],\n",
    "                transforms.Compose([\n",
    "                            transforms.Resize((256, 256)),\n",
    "                            transforms.RandomCrop((224, 224)),\n",
    "                            transforms.ToTensor(),\n",
    "                            transforms.Normalize([0.485, 0.456, 0.406], [0.229, 0.224, 0.225])\n",
    "            ])\n",
    "        ), batch_size=32, shuffle=True, num_workers=4, pin_memory=True\n",
    "    )\n",
    "    val_loader = DataLoader(\n",
    "        ImageDataset_Adversarial(test_df.iloc[val_idx],\n",
    "                transforms.Compose([\n",
    "                            transforms.Resize((256, 256)),\n",
    "                            transforms.RandomCrop((224, 224)),\n",
    "                            transforms.ToTensor(),\n",
    "                            transforms.Normalize([0.485, 0.456, 0.406], [0.229, 0.224, 0.225])\n",
    "            ])\n",
    "        ), batch_size=32, shuffle=False, num_workers=4, pin_memory=True \n",
    "    )\n",
    "\n",
    "    model = CellNet().to(device)\n",
    "    criterion = nn.CrossEntropyLoss().to(device)\n",
    "    optimizer = torch.optim.Adam(model.parameters(),lr=0.001,weight_decay=0.0005)\n",
    "    scheduler = torch.optim.lr_scheduler.ReduceLROnPlateau(optimizer, mode='min', factor=0.2, patience=3, verbose=False)\n",
    "    num_epoch=15\n",
    "    for epoch in range(num_epoch):\n",
    "        train_loss, train_acc, train_2 = train(train_loader, model, criterion, optimizer)\n",
    "        val_loss, val_acc, val_2 = val(val_loader, model, criterion)\n",
    "        scheduler.step(val_loss)\n",
    "    val_pred = predict(val_loader, model)    \n",
    "    val_pred = np.argmax(val_pred, 1)\n",
    "    auc = AUC( val_pred, test_df['is_test'].iloc[val_idx].values )\n",
    "    # save model\n",
    "    if best_auc < auc:\n",
    "        best_auc = auc\n",
    "        state = {\n",
    "            'model': model.state_dict(),\n",
    "            'auc': best_auc,\n",
    "        }\n",
    "        torch.save(state, PATH + MODEL_NAME + '.pth')\n",
    "    \n",
    "    print('fold {}'.format(flod_idx+1),'AUC: {:.2%}\\n'.format(auc))"
   ]
  },
  {
   "cell_type": "markdown",
   "metadata": {},
   "source": [
    "### As we can see above, the AUC is too high. Thus, the distributions of the trainset and testset are so different. Therefore, we should find the images which are similar to the test set from the trainset and use those as the val set"
   ]
  },
  {
   "cell_type": "code",
   "execution_count": 63,
   "metadata": {
    "execution": {
     "iopub.execute_input": "2021-05-23T11:33:01.357441Z",
     "iopub.status.busy": "2021-05-23T11:33:01.357087Z",
     "iopub.status.idle": "2021-05-23T11:33:02.038037Z",
     "shell.execute_reply": "2021-05-23T11:33:02.036951Z",
     "shell.execute_reply.started": "2021-05-23T11:33:01.357407Z"
    }
   },
   "outputs": [
    {
     "data": {
      "text/plain": [
       "<All keys matched successfully>"
      ]
     },
     "execution_count": 63,
     "metadata": {},
     "output_type": "execute_result"
    }
   ],
   "source": [
    "test_pred = None\n",
    "model_path=PATH + MODEL_NAME + '.pth'\n",
    "\n",
    "test_loader = DataLoader(\n",
    "    ImageDataset_Adversarial(test_df.iloc[val_idx],\n",
    "                             transforms.Compose([\n",
    "                                 transforms.Resize((256, 256)),\n",
    "                                 transforms.RandomCrop((224, 224)),\n",
    "                                 transforms.ToTensor(),\n",
    "                                 transforms.Normalize([0.485, 0.456, 0.406], [0.229, 0.224, 0.225])\n",
    "                             ])\n",
    "                             ), batch_size=32, shuffle=False, num_workers=4, pin_memory=True\n",
    ")\n",
    "   \n",
    "model = CellNet().to(device)\n",
    "model.load_state_dict(torch.load(model_path)['model'])"
   ]
  },
  {
   "cell_type": "code",
   "execution_count": 64,
   "metadata": {
    "execution": {
     "iopub.execute_input": "2021-05-23T11:33:14.303292Z",
     "iopub.status.busy": "2021-05-23T11:33:14.302876Z",
     "iopub.status.idle": "2021-05-23T11:33:16.283861Z",
     "shell.execute_reply": "2021-05-23T11:33:16.282719Z",
     "shell.execute_reply.started": "2021-05-23T11:33:14.303253Z"
    }
   },
   "outputs": [],
   "source": [
    "val_pred = predict(test_loader, model)    \n",
    "val_pred = np.argmax(val_pred, 1)"
   ]
  },
  {
   "cell_type": "markdown",
   "metadata": {},
   "source": [
    "### The Validation Auc is too high which reach 0.876"
   ]
  },
  {
   "cell_type": "code",
   "execution_count": 66,
   "metadata": {
    "execution": {
     "iopub.execute_input": "2021-05-23T11:33:32.869508Z",
     "iopub.status.busy": "2021-05-23T11:33:32.869165Z",
     "iopub.status.idle": "2021-05-23T11:33:33.020181Z",
     "shell.execute_reply": "2021-05-23T11:33:33.019310Z",
     "shell.execute_reply.started": "2021-05-23T11:33:32.869476Z"
    }
   },
   "outputs": [
    {
     "data": {
      "image/png": "[encoded data removed]",
      "text/plain": [
       "<Figure size 432x432 with 1 Axes>"
      ]
     },
     "metadata": {
      "needs_background": "light"
     },
     "output_type": "display_data"
    }
   ],
   "source": [
    "fpr, tpr, threshold = metrics.roc_curve(val_pred, test_df['is_test'].iloc[val_idx].values)\n",
    "roc_auc = metrics.auc(fpr, tpr)\n",
    "plt.figure(figsize=(6,6))\n",
    "plt.title('Validation ROC')\n",
    "plt.plot(fpr, tpr, 'b', label = 'Val AUC = %0.3f' % roc_auc)\n",
    "plt.legend(loc = 'lower right')\n",
    "plt.plot([0, 1], [0, 1],'r--')\n",
    "plt.xlim([0, 1])\n",
    "plt.ylim([0, 1])\n",
    "plt.ylabel('True Positive Rate')\n",
    "plt.xlabel('False Positive Rate')\n",
    "plt.show()"
   ]
  },
  {
   "cell_type": "code",
   "execution_count": 68,
   "metadata": {
    "execution": {
     "iopub.execute_input": "2021-05-23T11:35:16.087512Z",
     "iopub.status.busy": "2021-05-23T11:35:16.087167Z",
     "iopub.status.idle": "2021-05-23T11:35:16.094800Z",
     "shell.execute_reply": "2021-05-23T11:35:16.093358Z",
     "shell.execute_reply.started": "2021-05-23T11:35:16.087481Z"
    }
   },
   "outputs": [],
   "source": [
    "full_loader = DataLoader(\n",
    "    ImageDataset_Adversarial(test_df,\n",
    "                             transforms.Compose([\n",
    "                                 transforms.Resize((256, 256)),\n",
    "                                 transforms.RandomCrop((224, 224)),\n",
    "                                 transforms.ToTensor(),\n",
    "                                 transforms.Normalize([0.485, 0.456, 0.406], [0.229, 0.224, 0.225])\n",
    "                             ])\n",
    "                             ), batch_size=32, shuffle=False, num_workers=4, pin_memory=True\n",
    ")"
   ]
  },
  {
   "cell_type": "markdown",
   "metadata": {},
   "source": [
    "### save the sorted train and use this new train set to train our models"
   ]
  },
  {
   "cell_type": "code",
   "execution_count": 84,
   "metadata": {
    "execution": {
     "iopub.execute_input": "2021-05-23T11:40:59.608285Z",
     "iopub.status.busy": "2021-05-23T11:40:59.607948Z",
     "iopub.status.idle": "2021-05-23T11:41:06.100380Z",
     "shell.execute_reply": "2021-05-23T11:41:06.099488Z",
     "shell.execute_reply.started": "2021-05-23T11:40:59.608254Z"
    }
   },
   "outputs": [],
   "source": [
    "full_pred = predict_val(full_loader, model)    \n",
    "test_df['prob']=full_pred"
   ]
  },
  {
   "cell_type": "code",
   "execution_count": 85,
   "metadata": {
    "execution": {
     "iopub.execute_input": "2021-05-23T11:41:46.258206Z",
     "iopub.status.busy": "2021-05-23T11:41:46.257864Z",
     "iopub.status.idle": "2021-05-23T11:41:46.280982Z",
     "shell.execute_reply": "2021-05-23T11:41:46.280294Z",
     "shell.execute_reply.started": "2021-05-23T11:41:46.258170Z"
    }
   },
   "outputs": [],
   "source": [
    "train_label['prob']=test_df.loc[ test_df.is_test ==0 ]['prob']"
   ]
  },
  {
   "cell_type": "code",
   "execution_count": 86,
   "metadata": {
    "execution": {
     "iopub.execute_input": "2021-05-23T11:42:06.397148Z",
     "iopub.status.busy": "2021-05-23T11:42:06.396804Z",
     "iopub.status.idle": "2021-05-23T11:42:06.402322Z",
     "shell.execute_reply": "2021-05-23T11:42:06.401436Z",
     "shell.execute_reply.started": "2021-05-23T11:42:06.397118Z"
    }
   },
   "outputs": [],
   "source": [
    "num_sorted=np.argsort(train_label['prob'])"
   ]
  },
  {
   "cell_type": "code",
   "execution_count": 87,
   "metadata": {
    "execution": {
     "iopub.execute_input": "2021-05-23T11:42:18.170106Z",
     "iopub.status.busy": "2021-05-23T11:42:18.169792Z",
     "iopub.status.idle": "2021-05-23T11:42:18.176040Z",
     "shell.execute_reply": "2021-05-23T11:42:18.174721Z",
     "shell.execute_reply.started": "2021-05-23T11:42:18.170074Z"
    }
   },
   "outputs": [],
   "source": [
    "train_sorted = train_label.iloc[num_sorted]"
   ]
  },
  {
   "cell_type": "code",
   "execution_count": 88,
   "metadata": {
    "execution": {
     "iopub.execute_input": "2021-05-23T11:42:35.300745Z",
     "iopub.status.busy": "2021-05-23T11:42:35.300392Z",
     "iopub.status.idle": "2021-05-23T11:42:35.798888Z",
     "shell.execute_reply": "2021-05-23T11:42:35.798123Z",
     "shell.execute_reply.started": "2021-05-23T11:42:35.300709Z"
    }
   },
   "outputs": [],
   "source": [
    "train_sorted.to_csv('./train_sorted.csv')"
   ]
  },
  {
   "cell_type": "code",
   "execution_count": null,
   "metadata": {},
   "outputs": [],
   "source": []
  }
 ],
 "metadata": {
  "kernelspec": {
   "display_name": "Python 3",
   "language": "python",
   "name": "python3"
  },
  "language_info": {
   "codemirror_mode": {
    "name": "ipython",
    "version": 3
   },
   "file_extension": ".py",
   "mimetype": "text/x-python",
   "name": "python",
   "nbconvert_exporter": "python",
   "pygments_lexer": "ipython3",
   "version": "3.8.8"
  }
 },
 "nbformat": 4,
 "nbformat_minor": 4
}
