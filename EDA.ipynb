{
 "cells": [
  {
   "cell_type": "markdown",
   "metadata": {},
   "source": [
    "# EDA"
   ]
  },
  {
   "cell_type": "markdown",
   "metadata": {},
   "source": [
    "First, I did EDA to explore the structure of image meta data"
   ]
  },
  {
   "cell_type": "code",
   "execution_count": null,
   "metadata": {
    "colab": {
     "base_uri": "https://localhost:8080/"
    },
    "id": "I8yY7DAkDg0l",
    "outputId": "0677bf82-3e65-4aca-dc40-431651ea18af"
   },
   "outputs": [
    {
     "name": "stdout",
     "output_type": "stream",
     "text": [
      "Mounted at /content/gdrive\n"
     ]
    }
   ],
   "source": [
    "from google.colab import drive\n",
    "drive.mount('/content/gdrive')"
   ]
  },
  {
   "cell_type": "markdown",
   "metadata": {},
   "source": [
    "## Libraries"
   ]
  },
  {
   "cell_type": "code",
   "execution_count": null,
   "metadata": {
    "id": "mBOmmpIPDoH2"
   },
   "outputs": [],
   "source": [
    "import os, sys\n",
    "import pandas as pd\n",
    "import numpy as np\n",
    "import time, datetime\n",
    "\n",
    "import xgboost as xgb\n",
    "import seaborn as sns\n",
    "from tqdm.notebook import tqdm\n",
    "from PIL import Image\n",
    "import cv2\n",
    "from joblib import Parallel, delayed\n",
    "import psutil\n",
    "import hashlib;\n",
    "\n",
    "from sklearn.preprocessing import LabelEncoder\n",
    "from sklearn.model_selection import train_test_split, StratifiedKFold, KFold\n",
    "from matplotlib import pyplot as plt\n",
    "from sklearn.metrics import cohen_kappa_score, confusion_matrix\n",
    "\n",
    "sns.set(rc={'figure.figsize': (11.7, 8.27)})\n",
    "%reload_ext autoreload\n",
    "%autoreload 2\n",
    "%matplotlib inline"
   ]
  },
  {
   "cell_type": "markdown",
   "metadata": {},
   "source": [
    "Load the train data"
   ]
  },
  {
   "cell_type": "code",
   "execution_count": null,
   "metadata": {
    "id": "OmgS-gn6El6t"
   },
   "outputs": [],
   "source": [
    "train_label=pd.read_csv('/content/gdrive/MyDrive/data/train.csv')\n",
    "train_label['Id']= train_label['Id'].apply(lambda x: '/content/gdrive/MyDrive/data/train/train/'+str(x)+'.png')\n",
    "enc=LabelEncoder()\n",
    "enc.fit(['Connective','Cancer','Immune','Normal'])\n",
    "img_label=enc.transform(train_label['Type'].values)\n",
    "train_label['Type']=img_label"
   ]
  },
  {
   "cell_type": "markdown",
   "metadata": {},
   "source": [
    "## Image Properties\n",
    "Collect some summary statistics about the images:\n",
    "\n",
    "- Height\n",
    "- Width\n",
    "- Height to Width Ratio\n",
    "- Total Number of Pixels\n",
    "- Total Number of Black Pixels\n",
    "- Total Proportion of Black Pixels\n",
    "- Channel Means"
   ]
  },
  {
   "cell_type": "markdown",
   "metadata": {},
   "source": [
    "Use the cv2 to get the meta data"
   ]
  },
  {
   "cell_type": "code",
   "execution_count": null,
   "metadata": {
    "colab": {
     "base_uri": "https://localhost:8080/",
     "height": 137,
     "referenced_widgets": [
      "a5673d0efe024875880b45fa43f33f13",
      "320308fc6c1748d2bc7da76783dead4f",
      "9d70f03143b7473f88335b2d3ff9b86f",
      "3271d03acbd445c4bd8e0df947ab105d",
      "e045ff4e17144d2e9558e502059b4102",
      "fe59912852c8453abcae15f4c296c4ac",
      "f4fa8b1a730441ef8cc1b98d536cdcdc",
      "732fff8498de401fa74e0c8c4b156c9c"
     ]
    },
    "id": "yXNOGZ83Eo_D",
    "outputId": "d029cab1-019c-4db8-9287-f6d2d0dc7cd4"
   },
   "outputs": [
    {
     "name": "stderr",
     "output_type": "stream",
     "text": [
      "/usr/local/lib/python3.7/dist-packages/ipykernel_launcher.py:3: TqdmDeprecationWarning: This function will be removed in tqdm==5.0.0\n",
      "Please use `tqdm.notebook.tqdm` instead of `tqdm.tqdm_notebook`\n",
      "  This is separate from the ipykernel package so we can avoid doing imports until\n"
     ]
    },
    {
     "data": {
      "application/vnd.jupyter.widget-view+json": {
       "model_id": "a5673d0efe024875880b45fa43f33f13",
       "version_major": 2,
       "version_minor": 0
      },
      "text/plain": [
       "HBox(children=(FloatProgress(value=0.0, max=2190.0), HTML(value='')))"
      ]
     },
     "metadata": {
      "tags": []
     },
     "output_type": "display_data"
    },
    {
     "name": "stdout",
     "output_type": "stream",
     "text": [
      "\n"
     ]
    }
   ],
   "source": [
    "train_results = []\n",
    "\n",
    "for index, row in tqdm(train_label.iterrows(), total=train_label.shape[0]):\n",
    "    img = cv2.imread(row['Id'])\n",
    "\n",
    "    height, width, channels = img.shape\n",
    "    ratio = width/height\n",
    "    pixel_count = width*height\n",
    "    gray_scaled = cv2.cvtColor(img, cv2.COLOR_RGB2GRAY)\n",
    "    black_cnt = pixel_count-cv2.countNonZero(gray_scaled)\n",
    "    black_pct = black_cnt/pixel_count\n",
    "    mean0, mean1, mean2, _ = cv2.mean(img)\n",
    "\n",
    "    observation = np.array(\n",
    "        (row['Type'], height, width, ratio, pixel_count, black_cnt, black_pct, mean0, mean1, mean2))\n",
    "\n",
    "    train_results.append(observation)"
   ]
  },
  {
   "cell_type": "markdown",
   "metadata": {},
   "source": [
    "\n",
    "\n",
    "#### Chose the xgboost to analysis the meta features of the train images."
   ]
  },
  {
   "cell_type": "code",
   "execution_count": null,
   "metadata": {
    "id": "fakWF6e1KAjg"
   },
   "outputs": [],
   "source": [
    "train_results_df = pd.DataFrame(train_results)\n",
    "train_results_df.columns = [\n",
    "    'Type','height','width','ratio','pixel_count','black_cnt','black_pct','mean_c0','mean_c1','mean_c2']"
   ]
  },
  {
   "cell_type": "code",
   "execution_count": null,
   "metadata": {
    "id": "mAMxvsd8FbBA"
   },
   "outputs": [],
   "source": [
    "params = {\n",
    "    'booster': 'gbtree',\n",
    "    'objective': 'multi:softprob',\n",
    "    'eval_metric': 'mlogloss',\n",
    "    'eta': 0.005,\n",
    "    'max_depth': 10,\n",
    "    'subsample': 1.0,\n",
    "    'colsample_bytree': 1.0,\n",
    "    'tree_method': 'gpu_hist',\n",
    "    'num_class': 5}"
   ]
  },
  {
   "cell_type": "code",
   "execution_count": null,
   "metadata": {
    "colab": {
     "base_uri": "https://localhost:8080/"
    },
    "id": "SVMxYyz0JyCS",
    "outputId": "7b7ca70b-ea58-4536-a404-9419c4b72a5a"
   },
   "outputs": [
    {
     "name": "stdout",
     "output_type": "stream",
     "text": [
      "[0]\ttrain-mlogloss:1.60329\tvalid-mlogloss:1.60483\n",
      "Multiple eval metrics have been passed: 'valid-mlogloss' will be used for early stopping.\n",
      "\n",
      "Will train until valid-mlogloss hasn't improved in 250 rounds.\n",
      "[100]\ttrain-mlogloss:1.15556\tvalid-mlogloss:1.29407\n",
      "[200]\ttrain-mlogloss:0.898889\tvalid-mlogloss:1.13535\n",
      "[300]\ttrain-mlogloss:0.732123\tvalid-mlogloss:1.05085\n",
      "[400]\ttrain-mlogloss:0.617633\tvalid-mlogloss:0.997366\n",
      "[500]\ttrain-mlogloss:0.535301\tvalid-mlogloss:0.970055\n",
      "[600]\ttrain-mlogloss:0.476564\tvalid-mlogloss:0.953204\n",
      "[700]\ttrain-mlogloss:0.432068\tvalid-mlogloss:0.947075\n",
      "[800]\ttrain-mlogloss:0.39765\tvalid-mlogloss:0.941458\n",
      "[900]\ttrain-mlogloss:0.374225\tvalid-mlogloss:0.940787\n",
      "[1000]\ttrain-mlogloss:0.35578\tvalid-mlogloss:0.944554\n",
      "[1100]\ttrain-mlogloss:0.34186\tvalid-mlogloss:0.9475\n",
      "Stopping. Best iteration:\n",
      "[886]\ttrain-mlogloss:0.377207\tvalid-mlogloss:0.940419\n",
      "\n"
     ]
    }
   ],
   "source": [
    "X = train_results_df.drop(columns=['Type'])\n",
    "y = train_results_df['Type']\n",
    "\n",
    "X_train, X_test, y_train, y_test = train_test_split(X, y, test_size=0.2, random_state=1337)\n",
    "\n",
    "dtrain = xgb.DMatrix(X_train, label=y_train)\n",
    "dvalid = xgb.DMatrix(X_test, label=y_test)\n",
    "\n",
    "watchlist = [(dtrain, 'train'), (dvalid, 'valid')]\n",
    "\n",
    "bst = xgb.train(\n",
    "    params=params,\n",
    "    dtrain=dtrain,\n",
    "    num_boost_round=100000,\n",
    "    evals=watchlist,\n",
    "    early_stopping_rounds=250,\n",
    "    verbose_eval=100\n",
    ")"
   ]
  },
  {
   "cell_type": "markdown",
   "metadata": {},
   "source": [
    "#### cohen_kappa_score"
   ]
  },
  {
   "cell_type": "code",
   "execution_count": null,
   "metadata": {
    "id": "LihF4dLzJ6hD"
   },
   "outputs": [],
   "source": [
    "test_path = ['/content/gdrive/MyDrive/data/test/test/{0}.png'.format(x) for x in range(10001, 10401)]\n",
    "test_label = pd.DataFrame(test_path)\n",
    "test_label['Type']=0"
   ]
  },
  {
   "cell_type": "code",
   "execution_count": null,
   "metadata": {
    "id": "_YmwX3GlKzo1"
   },
   "outputs": [],
   "source": [
    "test_label['Id']=test_label.iloc[:,0]"
   ]
  },
  {
   "cell_type": "code",
   "execution_count": null,
   "metadata": {
    "colab": {
     "base_uri": "https://localhost:8080/",
     "height": 137,
     "referenced_widgets": [
      "aa690e0dd11d419596e3f3a923388c58",
      "1c0e987c42a345c294af1c09e6a7213f",
      "6ff4cf94891842d0bc467ac5426777a9",
      "dd056c7ba521457085771794ff6986ee",
      "e8d3918dfa3d4dbda21ea09d6644dcd0",
      "1c3177e5961941b09a74c8f9a5d04a57",
      "f82f976c75cc40268bd781df84845267",
      "75a34e4a5d444d958385947e0ce9d02d"
     ]
    },
    "id": "CUkZIqt1KlrP",
    "outputId": "03b2713c-32d7-459e-89d4-309b430147c9"
   },
   "outputs": [
    {
     "name": "stderr",
     "output_type": "stream",
     "text": [
      "/usr/local/lib/python3.7/dist-packages/ipykernel_launcher.py:2: TqdmDeprecationWarning: This function will be removed in tqdm==5.0.0\n",
      "Please use `tqdm.notebook.tqdm` instead of `tqdm.tqdm_notebook`\n",
      "  \n"
     ]
    },
    {
     "data": {
      "application/vnd.jupyter.widget-view+json": {
       "model_id": "aa690e0dd11d419596e3f3a923388c58",
       "version_major": 2,
       "version_minor": 0
      },
      "text/plain": [
       "HBox(children=(FloatProgress(value=0.0, max=400.0), HTML(value='')))"
      ]
     },
     "metadata": {
      "tags": []
     },
     "output_type": "display_data"
    },
    {
     "name": "stdout",
     "output_type": "stream",
     "text": [
      "\n"
     ]
    }
   ],
   "source": [
    "test_results = []\n",
    "for index, row in tqdm(test_label.iterrows(), total=test_label.shape[0]):\n",
    "    img = cv2.imread((row['Id']))\n",
    "\n",
    "    height, width, channels = img.shape\n",
    "    ratio = width/height\n",
    "    pixel_count = width*height\n",
    "    gray_scaled = cv2.cvtColor(img, cv2.COLOR_RGB2GRAY)\n",
    "    black_cnt = pixel_count-cv2.countNonZero(gray_scaled)\n",
    "    black_pct = black_cnt/pixel_count\n",
    "    mean0, mean1, mean2, _ = cv2.mean(img)\n",
    "\n",
    "    observation = np.array(\n",
    "        (np.nan, height, width, ratio, pixel_count, black_cnt, black_pct, mean0, mean1, mean2))\n",
    "\n",
    "    test_results.append(observation)\n",
    "\n",
    "test_results_df = pd.DataFrame(test_results)\n",
    "test_results_df.columns = [\n",
    "    'Type','height','width','ratio','pixel_count','black_cnt','black_pct','mean_c0','mean_c1','mean_c2']"
   ]
  },
  {
   "cell_type": "code",
   "execution_count": null,
   "metadata": {
    "colab": {
     "base_uri": "https://localhost:8080/"
    },
    "id": "KUx0n6zjKvzC",
    "outputId": "60296ac8-fa6d-4e73-9f2f-df92a343b37a"
   },
   "outputs": [
    {
     "name": "stdout",
     "output_type": "stream",
     "text": [
      "Validation Kappa: 0.42533267006591213\n"
     ]
    }
   ],
   "source": [
    "pred = pd.DataFrame(np.argmax(bst.predict(dvalid), axis=1))\n",
    "results = pd.concat([y_test.reset_index(drop=True), pred], axis=1)\n",
    "score = cohen_kappa_score(results.iloc[:,0], results.iloc[:,1], weights=\"quadratic\")\n",
    "\n",
    "print('Validation Kappa:', score)"
   ]
  },
  {
   "cell_type": "markdown",
   "metadata": {},
   "source": [
    "#### confusion_matrix"
   ]
  },
  {
   "cell_type": "code",
   "execution_count": null,
   "metadata": {
    "colab": {
     "base_uri": "https://localhost:8080/",
     "height": 296
    },
    "id": "ahiLWf1oMHPg",
    "outputId": "806fc437-77af-4de6-ae85-f219bb6c2313"
   },
   "outputs": [
    {
     "data": {
      "text/plain": [
       "[Text(33.0, 0.5, 'True label'), Text(0.5, 15.0, 'Predicted label')]"
      ]
     },
     "execution_count": 30,
     "metadata": {
      "tags": []
     },
     "output_type": "execute_result"
    },
    {
     "data": {
      "image/png": "[encoded data removed]",
      "text/plain": [
       "<Figure size 432x288 with 2 Axes>"
      ]
     },
     "metadata": {
      "needs_background": "light",
      "tags": []
     },
     "output_type": "display_data"
    }
   ],
   "source": [
    "cm = confusion_matrix(y_true=results.iloc[:,0], y_pred=results.iloc[:,1])\n",
    "cm = cm.astype('float') / cm.sum(axis=1)[:, np.newaxis]\n",
    "\n",
    "fig, ax = plt.subplots()\n",
    "sns.heatmap(cm, annot=True)\n",
    "ax.set(ylabel='True label', xlabel='Predicted label')"
   ]
  },
  {
   "cell_type": "markdown",
   "metadata": {},
   "source": [
    "#### the distribution of image data"
   ]
  },
  {
   "cell_type": "code",
   "execution_count": null,
   "metadata": {
    "colab": {
     "base_uri": "https://localhost:8080/"
    },
    "id": "CEB1UiUIMJyW",
    "outputId": "529993e0-cbe1-4d2e-93c0-0ca6d7b54eea"
   },
   "outputs": [
    {
     "data": {
      "text/plain": [
       "2    0.332877\n",
       "1    0.331507\n",
       "0    0.249315\n",
       "3    0.086301\n",
       "Name: Type, dtype: float64"
      ]
     },
     "execution_count": 33,
     "metadata": {
      "tags": []
     },
     "output_type": "execute_result"
    }
   ],
   "source": [
    "train_label['Type'].value_counts()/train_label.shape[0]"
   ]
  },
  {
   "cell_type": "markdown",
   "metadata": {},
   "source": [
    "#### important features"
   ]
  },
  {
   "cell_type": "code",
   "execution_count": null,
   "metadata": {
    "colab": {
     "base_uri": "https://localhost:8080/",
     "height": 670
    },
    "id": "GeY5ofe_MQQt",
    "outputId": "f0463eaf-2f79-4a7f-af27-1f13519a2a09"
   },
   "outputs": [
    {
     "data": {
      "text/plain": [
       "<matplotlib.axes._subplots.AxesSubplot at 0x7f6c4dd62790>"
      ]
     },
     "execution_count": 36,
     "metadata": {
      "tags": []
     },
     "output_type": "execute_result"
    },
    {
     "data": {
      "image/png": "[encoded data removed]",
      "text/plain": [
       "<Figure size 864x1296 with 1 Axes>"
      ]
     },
     "metadata": {
      "tags": []
     },
     "output_type": "display_data"
    }
   ],
   "source": [
    "fig, ax = plt.subplots(figsize=(12,18))\n",
    "xgb.plot_importance(bst, importance_type='gain', height=0.8, ax=ax)"
   ]
  },
  {
   "cell_type": "markdown",
   "metadata": {},
   "source": [
    "#### make a submission file to find the relationship bewteen the trainset and test set"
   ]
  },
  {
   "cell_type": "code",
   "execution_count": null,
   "metadata": {
    "id": "q5_XBXU9RzVx"
   },
   "outputs": [],
   "source": [
    "test_label['num']=list(range(1,401))"
   ]
  },
  {
   "cell_type": "code",
   "execution_count": null,
   "metadata": {
    "colab": {
     "base_uri": "https://localhost:8080/",
     "height": 204
    },
    "id": "mWGe_aHuRW5c",
    "outputId": "9c0dbc39-35aa-4097-a1cd-95a6f05afbeb"
   },
   "outputs": [
    {
     "data": {
      "text/html": [
       "<div>\n",
       "<style scoped>\n",
       "    .dataframe tbody tr th:only-of-type {\n",
       "        vertical-align: middle;\n",
       "    }\n",
       "\n",
       "    .dataframe tbody tr th {\n",
       "        vertical-align: top;\n",
       "    }\n",
       "\n",
       "    .dataframe thead th {\n",
       "        text-align: right;\n",
       "    }\n",
       "</style>\n",
       "<table border=\"1\" class=\"dataframe\">\n",
       "  <thead>\n",
       "    <tr style=\"text-align: right;\">\n",
       "      <th></th>\n",
       "      <th>Id</th>\n",
       "      <th>Type</th>\n",
       "    </tr>\n",
       "  </thead>\n",
       "  <tbody>\n",
       "    <tr>\n",
       "      <th>0</th>\n",
       "      <td>1</td>\n",
       "      <td>1</td>\n",
       "    </tr>\n",
       "    <tr>\n",
       "      <th>1</th>\n",
       "      <td>2</td>\n",
       "      <td>1</td>\n",
       "    </tr>\n",
       "    <tr>\n",
       "      <th>2</th>\n",
       "      <td>3</td>\n",
       "      <td>1</td>\n",
       "    </tr>\n",
       "    <tr>\n",
       "      <th>3</th>\n",
       "      <td>4</td>\n",
       "      <td>2</td>\n",
       "    </tr>\n",
       "    <tr>\n",
       "      <th>4</th>\n",
       "      <td>5</td>\n",
       "      <td>1</td>\n",
       "    </tr>\n",
       "  </tbody>\n",
       "</table>\n",
       "</div>"
      ],
      "text/plain": [
       "   Id  Type\n",
       "0   1     1\n",
       "1   2     1\n",
       "2   3     1\n",
       "3   4     2\n",
       "4   5     1"
      ]
     },
     "execution_count": 45,
     "metadata": {
      "tags": []
     },
     "output_type": "execute_result"
    }
   ],
   "source": [
    "dtest = xgb.DMatrix(test_results_df.drop(columns=['Type']))\n",
    "test_pred = pd.DataFrame(np.argmax(bst.predict(dtest), axis=1))\n",
    "submission = pd.concat([test_label['num'], test_pred], axis=1)\n",
    "submission.columns = ['Id','Type']\n",
    "submission.to_csv('submission.csv', index=False)\n",
    "submission.head()"
   ]
  },
  {
   "attachments": {
    "image.png": {
     "image/png": "[encoded data removed]"
    }
   },
   "cell_type": "markdown",
   "metadata": {},
   "source": [
    "![image.png](attachment:image.png)"
   ]
  },
  {
   "cell_type": "markdown",
   "metadata": {},
   "source": [
    "### Then, I want to explore if there are any duplicate pictures which may have bad negative on this case."
   ]
  },
  {
   "cell_type": "code",
   "execution_count": null,
   "metadata": {
    "id": "TU9XiK0Df0HL"
   },
   "outputs": [],
   "source": [
    "def getImageMetaData(p):\n",
    "    strFile = p\n",
    "    file = None;\n",
    "    bRet = False;\n",
    "    strMd5 = \"\";\n",
    "    \n",
    "    try:\n",
    "        file = open(strFile, \"rb\");\n",
    "        md5 = hashlib.md5();\n",
    "        strRead = \"\";\n",
    "        \n",
    "        while True:\n",
    "            strRead = file.read(8096);\n",
    "            if not strRead:\n",
    "                break;\n",
    "            md5.update(strRead);\n",
    "        #read file finish\n",
    "        bRet = True;\n",
    "        strMd5 = md5.hexdigest();\n",
    "    except:\n",
    "        bRet = False;\n",
    "    finally:\n",
    "        if file:\n",
    "            file.close()\n",
    "\n",
    "    return p,strMd5"
   ]
  },
  {
   "cell_type": "code",
   "execution_count": null,
   "metadata": {
    "colab": {
     "base_uri": "https://localhost:8080/"
    },
    "id": "y933Gi8IgAk0",
    "outputId": "0013e2d9-eaba-4be5-9f44-78b06e487bbd"
   },
   "outputs": [
    {
     "name": "stderr",
     "output_type": "stream",
     "text": [
      "[Parallel(n_jobs=2)]: Using backend LokyBackend with 2 concurrent workers.\n",
      "[Parallel(n_jobs=2)]: Done  46 tasks      | elapsed:   12.9s\n",
      "[Parallel(n_jobs=2)]: Done 196 tasks      | elapsed:   23.7s\n",
      "[Parallel(n_jobs=2)]: Done 446 tasks      | elapsed:   41.8s\n",
      "[Parallel(n_jobs=2)]: Done 796 tasks      | elapsed:  1.1min\n",
      "[Parallel(n_jobs=2)]: Done 1246 tasks      | elapsed:  1.7min\n",
      "[Parallel(n_jobs=2)]: Done 1796 tasks      | elapsed:  2.3min\n",
      "[Parallel(n_jobs=2)]: Done 2190 out of 2190 | elapsed:  2.8min finished\n"
     ]
    }
   ],
   "source": [
    "img_meta_l = Parallel(n_jobs=psutil.cpu_count(), verbose=1)(\n",
    "    (delayed(getImageMetaData)(fp) for fp in train_label['Id']))"
   ]
  },
  {
   "cell_type": "code",
   "execution_count": null,
   "metadata": {
    "id": "Z1jpiuz-gED3"
   },
   "outputs": [],
   "source": [
    "img_meta_df = pd.DataFrame(np.array(img_meta_l))\n",
    "img_meta_df.columns = ['Id', 'strMd5']"
   ]
  },
  {
   "cell_type": "code",
   "execution_count": null,
   "metadata": {
    "id": "-4PGgedog4D7"
   },
   "outputs": [],
   "source": [
    "train_label = train_label.merge(img_meta_df,on='Id')"
   ]
  },
  {
   "cell_type": "code",
   "execution_count": null,
   "metadata": {
    "id": "LQbUACXig6XT"
   },
   "outputs": [],
   "source": [
    "train_label['strMd5_count'] = train_label.groupby('strMd5').Id.transform('count')"
   ]
  },
  {
   "cell_type": "code",
   "execution_count": null,
   "metadata": {
    "id": "rNVkprBNhCnw"
   },
   "outputs": [],
   "source": [
    "train_label['strMd5_train_count'] = train_label['strMd5'].map(train_label.groupby('strMd5')['Type'].apply(lambda x:x.notnull().sum()))"
   ]
  },
  {
   "cell_type": "code",
   "execution_count": null,
   "metadata": {
    "id": "rHwYdfd_hFVw"
   },
   "outputs": [],
   "source": [
    "train_label['strMd5_nunique'] = train_label.groupby('strMd5')['Type'].transform('nunique').astype('int')"
   ]
  },
  {
   "cell_type": "code",
   "execution_count": null,
   "metadata": {
    "id": "Pv6bXCuqhZX9"
   },
   "outputs": [],
   "source": [
    "train_label.to_csv('strMd5.csv',index=None)"
   ]
  },
  {
   "cell_type": "markdown",
   "metadata": {},
   "source": [
    "### Fortunately, there are no duplicate pictures here"
   ]
  },
  {
   "cell_type": "code",
   "execution_count": null,
   "metadata": {
    "colab": {
     "base_uri": "https://localhost:8080/"
    },
    "id": "QBCwMSPJhfP1",
    "outputId": "6207e73f-6b39-4678-c3d3-f7a5658a99ff"
   },
   "outputs": [
    {
     "data": {
      "text/plain": [
       "Series([], Name: strMd5_count, dtype: int64)"
      ]
     },
     "execution_count": 24,
     "metadata": {
      "tags": []
     },
     "output_type": "execute_result"
    }
   ],
   "source": [
    "train_label[train_label.strMd5_count>1].strMd5_count.value_counts()"
   ]
  },
  {
   "cell_type": "code",
   "execution_count": null,
   "metadata": {
    "colab": {
     "base_uri": "https://localhost:8080/"
    },
    "id": "pkq7cgcwhotR",
    "outputId": "21648a27-056d-434b-8558-2766915fc361"
   },
   "outputs": [
    {
     "data": {
      "text/plain": [
       "Series([], Name: strMd5_count, dtype: int64)"
      ]
     },
     "execution_count": 26,
     "metadata": {
      "tags": []
     },
     "output_type": "execute_result"
    }
   ],
   "source": [
    "train_label[(train_label.strMd5_train_count>1)&(train_label.strMd5_nunique==1)].strMd5_count.value_counts()"
   ]
  },
  {
   "cell_type": "code",
   "execution_count": null,
   "metadata": {
    "id": "4xqJc9Sthteu"
   },
   "outputs": [],
   "source": []
  }
 ],
 "metadata": {
  "accelerator": "GPU",
  "colab": {
   "name": "EDA.ipynb",
   "provenance": []
  },
  "kernelspec": {
   "display_name": "Python 3",
   "language": "python",
   "name": "python3"
  },
  "language_info": {
   "codemirror_mode": {
    "name": "ipython",
    "version": 3
   },
   "file_extension": ".py",
   "mimetype": "text/x-python",
   "name": "python",
   "nbconvert_exporter": "python",
   "pygments_lexer": "ipython3",
   "version": "3.8.8"
  },
  "widgets": {
   "application/vnd.jupyter.widget-state+json": {
    "1c0e987c42a345c294af1c09e6a7213f": {
     "model_module": "@jupyter-widgets/base",
     "model_name": "LayoutModel",
     "state": {
      "_model_module": "@jupyter-widgets/base",
      "_model_module_version": "1.2.0",
      "_model_name": "LayoutModel",
      "_view_count": null,
      "_view_module": "@jupyter-widgets/base",
      "_view_module_version": "1.2.0",
      "_view_name": "LayoutView",
      "align_content": null,
      "align_items": null,
      "align_self": null,
      "border": null,
      "bottom": null,
      "display": null,
      "flex": null,
      "flex_flow": null,
      "grid_area": null,
      "grid_auto_columns": null,
      "grid_auto_flow": null,
      "grid_auto_rows": null,
      "grid_column": null,
      "grid_gap": null,
      "grid_row": null,
      "grid_template_areas": null,
      "grid_template_columns": null,
      "grid_template_rows": null,
      "height": null,
      "justify_content": null,
      "justify_items": null,
      "left": null,
      "margin": null,
      "max_height": null,
      "max_width": null,
      "min_height": null,
      "min_width": null,
      "object_fit": null,
      "object_position": null,
      "order": null,
      "overflow": null,
      "overflow_x": null,
      "overflow_y": null,
      "padding": null,
      "right": null,
      "top": null,
      "visibility": null,
      "width": null
     }
    },
    "1c3177e5961941b09a74c8f9a5d04a57": {
     "model_module": "@jupyter-widgets/base",
     "model_name": "LayoutModel",
     "state": {
      "_model_module": "@jupyter-widgets/base",
      "_model_module_version": "1.2.0",
      "_model_name": "LayoutModel",
      "_view_count": null,
      "_view_module": "@jupyter-widgets/base",
      "_view_module_version": "1.2.0",
      "_view_name": "LayoutView",
      "align_content": null,
      "align_items": null,
      "align_self": null,
      "border": null,
      "bottom": null,
      "display": null,
      "flex": null,
      "flex_flow": null,
      "grid_area": null,
      "grid_auto_columns": null,
      "grid_auto_flow": null,
      "grid_auto_rows": null,
      "grid_column": null,
      "grid_gap": null,
      "grid_row": null,
      "grid_template_areas": null,
      "grid_template_columns": null,
      "grid_template_rows": null,
      "height": null,
      "justify_content": null,
      "justify_items": null,
      "left": null,
      "margin": null,
      "max_height": null,
      "max_width": null,
      "min_height": null,
      "min_width": null,
      "object_fit": null,
      "object_position": null,
      "order": null,
      "overflow": null,
      "overflow_x": null,
      "overflow_y": null,
      "padding": null,
      "right": null,
      "top": null,
      "visibility": null,
      "width": null
     }
    },
    "320308fc6c1748d2bc7da76783dead4f": {
     "model_module": "@jupyter-widgets/base",
     "model_name": "LayoutModel",
     "state": {
      "_model_module": "@jupyter-widgets/base",
      "_model_module_version": "1.2.0",
      "_model_name": "LayoutModel",
      "_view_count": null,
      "_view_module": "@jupyter-widgets/base",
      "_view_module_version": "1.2.0",
      "_view_name": "LayoutView",
      "align_content": null,
      "align_items": null,
      "align_self": null,
      "border": null,
      "bottom": null,
      "display": null,
      "flex": null,
      "flex_flow": null,
      "grid_area": null,
      "grid_auto_columns": null,
      "grid_auto_flow": null,
      "grid_auto_rows": null,
      "grid_column": null,
      "grid_gap": null,
      "grid_row": null,
      "grid_template_areas": null,
      "grid_template_columns": null,
      "grid_template_rows": null,
      "height": null,
      "justify_content": null,
      "justify_items": null,
      "left": null,
      "margin": null,
      "max_height": null,
      "max_width": null,
      "min_height": null,
      "min_width": null,
      "object_fit": null,
      "object_position": null,
      "order": null,
      "overflow": null,
      "overflow_x": null,
      "overflow_y": null,
      "padding": null,
      "right": null,
      "top": null,
      "visibility": null,
      "width": null
     }
    },
    "3271d03acbd445c4bd8e0df947ab105d": {
     "model_module": "@jupyter-widgets/controls",
     "model_name": "HTMLModel",
     "state": {
      "_dom_classes": [],
      "_model_module": "@jupyter-widgets/controls",
      "_model_module_version": "1.5.0",
      "_model_name": "HTMLModel",
      "_view_count": null,
      "_view_module": "@jupyter-widgets/controls",
      "_view_module_version": "1.5.0",
      "_view_name": "HTMLView",
      "description": "",
      "description_tooltip": null,
      "layout": "IPY_MODEL_732fff8498de401fa74e0c8c4b156c9c",
      "placeholder": "​",
      "style": "IPY_MODEL_f4fa8b1a730441ef8cc1b98d536cdcdc",
      "value": " 2190/2190 [11:47&lt;00:00,  3.10it/s]"
     }
    },
    "6ff4cf94891842d0bc467ac5426777a9": {
     "model_module": "@jupyter-widgets/controls",
     "model_name": "FloatProgressModel",
     "state": {
      "_dom_classes": [],
      "_model_module": "@jupyter-widgets/controls",
      "_model_module_version": "1.5.0",
      "_model_name": "FloatProgressModel",
      "_view_count": null,
      "_view_module": "@jupyter-widgets/controls",
      "_view_module_version": "1.5.0",
      "_view_name": "ProgressView",
      "bar_style": "success",
      "description": "100%",
      "description_tooltip": null,
      "layout": "IPY_MODEL_1c3177e5961941b09a74c8f9a5d04a57",
      "max": 400,
      "min": 0,
      "orientation": "horizontal",
      "style": "IPY_MODEL_e8d3918dfa3d4dbda21ea09d6644dcd0",
      "value": 400
     }
    },
    "732fff8498de401fa74e0c8c4b156c9c": {
     "model_module": "@jupyter-widgets/base",
     "model_name": "LayoutModel",
     "state": {
      "_model_module": "@jupyter-widgets/base",
      "_model_module_version": "1.2.0",
      "_model_name": "LayoutModel",
      "_view_count": null,
      "_view_module": "@jupyter-widgets/base",
      "_view_module_version": "1.2.0",
      "_view_name": "LayoutView",
      "align_content": null,
      "align_items": null,
      "align_self": null,
      "border": null,
      "bottom": null,
      "display": null,
      "flex": null,
      "flex_flow": null,
      "grid_area": null,
      "grid_auto_columns": null,
      "grid_auto_flow": null,
      "grid_auto_rows": null,
      "grid_column": null,
      "grid_gap": null,
      "grid_row": null,
      "grid_template_areas": null,
      "grid_template_columns": null,
      "grid_template_rows": null,
      "height": null,
      "justify_content": null,
      "justify_items": null,
      "left": null,
      "margin": null,
      "max_height": null,
      "max_width": null,
      "min_height": null,
      "min_width": null,
      "object_fit": null,
      "object_position": null,
      "order": null,
      "overflow": null,
      "overflow_x": null,
      "overflow_y": null,
      "padding": null,
      "right": null,
      "top": null,
      "visibility": null,
      "width": null
     }
    },
    "75a34e4a5d444d958385947e0ce9d02d": {
     "model_module": "@jupyter-widgets/base",
     "model_name": "LayoutModel",
     "state": {
      "_model_module": "@jupyter-widgets/base",
      "_model_module_version": "1.2.0",
      "_model_name": "LayoutModel",
      "_view_count": null,
      "_view_module": "@jupyter-widgets/base",
      "_view_module_version": "1.2.0",
      "_view_name": "LayoutView",
      "align_content": null,
      "align_items": null,
      "align_self": null,
      "border": null,
      "bottom": null,
      "display": null,
      "flex": null,
      "flex_flow": null,
      "grid_area": null,
      "grid_auto_columns": null,
      "grid_auto_flow": null,
      "grid_auto_rows": null,
      "grid_column": null,
      "grid_gap": null,
      "grid_row": null,
      "grid_template_areas": null,
      "grid_template_columns": null,
      "grid_template_rows": null,
      "height": null,
      "justify_content": null,
      "justify_items": null,
      "left": null,
      "margin": null,
      "max_height": null,
      "max_width": null,
      "min_height": null,
      "min_width": null,
      "object_fit": null,
      "object_position": null,
      "order": null,
      "overflow": null,
      "overflow_x": null,
      "overflow_y": null,
      "padding": null,
      "right": null,
      "top": null,
      "visibility": null,
      "width": null
     }
    },
    "9d70f03143b7473f88335b2d3ff9b86f": {
     "model_module": "@jupyter-widgets/controls",
     "model_name": "FloatProgressModel",
     "state": {
      "_dom_classes": [],
      "_model_module": "@jupyter-widgets/controls",
      "_model_module_version": "1.5.0",
      "_model_name": "FloatProgressModel",
      "_view_count": null,
      "_view_module": "@jupyter-widgets/controls",
      "_view_module_version": "1.5.0",
      "_view_name": "ProgressView",
      "bar_style": "success",
      "description": "100%",
      "description_tooltip": null,
      "layout": "IPY_MODEL_fe59912852c8453abcae15f4c296c4ac",
      "max": 2190,
      "min": 0,
      "orientation": "horizontal",
      "style": "IPY_MODEL_e045ff4e17144d2e9558e502059b4102",
      "value": 2190
     }
    },
    "a5673d0efe024875880b45fa43f33f13": {
     "model_module": "@jupyter-widgets/controls",
     "model_name": "HBoxModel",
     "state": {
      "_dom_classes": [],
      "_model_module": "@jupyter-widgets/controls",
      "_model_module_version": "1.5.0",
      "_model_name": "HBoxModel",
      "_view_count": null,
      "_view_module": "@jupyter-widgets/controls",
      "_view_module_version": "1.5.0",
      "_view_name": "HBoxView",
      "box_style": "",
      "children": [
       "IPY_MODEL_9d70f03143b7473f88335b2d3ff9b86f",
       "IPY_MODEL_3271d03acbd445c4bd8e0df947ab105d"
      ],
      "layout": "IPY_MODEL_320308fc6c1748d2bc7da76783dead4f"
     }
    },
    "aa690e0dd11d419596e3f3a923388c58": {
     "model_module": "@jupyter-widgets/controls",
     "model_name": "HBoxModel",
     "state": {
      "_dom_classes": [],
      "_model_module": "@jupyter-widgets/controls",
      "_model_module_version": "1.5.0",
      "_model_name": "HBoxModel",
      "_view_count": null,
      "_view_module": "@jupyter-widgets/controls",
      "_view_module_version": "1.5.0",
      "_view_name": "HBoxView",
      "box_style": "",
      "children": [
       "IPY_MODEL_6ff4cf94891842d0bc467ac5426777a9",
       "IPY_MODEL_dd056c7ba521457085771794ff6986ee"
      ],
      "layout": "IPY_MODEL_1c0e987c42a345c294af1c09e6a7213f"
     }
    },
    "dd056c7ba521457085771794ff6986ee": {
     "model_module": "@jupyter-widgets/controls",
     "model_name": "HTMLModel",
     "state": {
      "_dom_classes": [],
      "_model_module": "@jupyter-widgets/controls",
      "_model_module_version": "1.5.0",
      "_model_name": "HTMLModel",
      "_view_count": null,
      "_view_module": "@jupyter-widgets/controls",
      "_view_module_version": "1.5.0",
      "_view_name": "HTMLView",
      "description": "",
      "description_tooltip": null,
      "layout": "IPY_MODEL_75a34e4a5d444d958385947e0ce9d02d",
      "placeholder": "​",
      "style": "IPY_MODEL_f82f976c75cc40268bd781df84845267",
      "value": " 400/400 [04:31&lt;00:00,  1.47it/s]"
     }
    },
    "e045ff4e17144d2e9558e502059b4102": {
     "model_module": "@jupyter-widgets/controls",
     "model_name": "ProgressStyleModel",
     "state": {
      "_model_module": "@jupyter-widgets/controls",
      "_model_module_version": "1.5.0",
      "_model_name": "ProgressStyleModel",
      "_view_count": null,
      "_view_module": "@jupyter-widgets/base",
      "_view_module_version": "1.2.0",
      "_view_name": "StyleView",
      "bar_color": null,
      "description_width": "initial"
     }
    },
    "e8d3918dfa3d4dbda21ea09d6644dcd0": {
     "model_module": "@jupyter-widgets/controls",
     "model_name": "ProgressStyleModel",
     "state": {
      "_model_module": "@jupyter-widgets/controls",
      "_model_module_version": "1.5.0",
      "_model_name": "ProgressStyleModel",
      "_view_count": null,
      "_view_module": "@jupyter-widgets/base",
      "_view_module_version": "1.2.0",
      "_view_name": "StyleView",
      "bar_color": null,
      "description_width": "initial"
     }
    },
    "f4fa8b1a730441ef8cc1b98d536cdcdc": {
     "model_module": "@jupyter-widgets/controls",
     "model_name": "DescriptionStyleModel",
     "state": {
      "_model_module": "@jupyter-widgets/controls",
      "_model_module_version": "1.5.0",
      "_model_name": "DescriptionStyleModel",
      "_view_count": null,
      "_view_module": "@jupyter-widgets/base",
      "_view_module_version": "1.2.0",
      "_view_name": "StyleView",
      "description_width": ""
     }
    },
    "f82f976c75cc40268bd781df84845267": {
     "model_module": "@jupyter-widgets/controls",
     "model_name": "DescriptionStyleModel",
     "state": {
      "_model_module": "@jupyter-widgets/controls",
      "_model_module_version": "1.5.0",
      "_model_name": "DescriptionStyleModel",
      "_view_count": null,
      "_view_module": "@jupyter-widgets/base",
      "_view_module_version": "1.2.0",
      "_view_name": "StyleView",
      "description_width": ""
     }
    },
    "fe59912852c8453abcae15f4c296c4ac": {
     "model_module": "@jupyter-widgets/base",
     "model_name": "LayoutModel",
     "state": {
      "_model_module": "@jupyter-widgets/base",
      "_model_module_version": "1.2.0",
      "_model_name": "LayoutModel",
      "_view_count": null,
      "_view_module": "@jupyter-widgets/base",
      "_view_module_version": "1.2.0",
      "_view_name": "LayoutView",
      "align_content": null,
      "align_items": null,
      "align_self": null,
      "border": null,
      "bottom": null,
      "display": null,
      "flex": null,
      "flex_flow": null,
      "grid_area": null,
      "grid_auto_columns": null,
      "grid_auto_flow": null,
      "grid_auto_rows": null,
      "grid_column": null,
      "grid_gap": null,
      "grid_row": null,
      "grid_template_areas": null,
      "grid_template_columns": null,
      "grid_template_rows": null,
      "height": null,
      "justify_content": null,
      "justify_items": null,
      "left": null,
      "margin": null,
      "max_height": null,
      "max_width": null,
      "min_height": null,
      "min_width": null,
      "object_fit": null,
      "object_position": null,
      "order": null,
      "overflow": null,
      "overflow_x": null,
      "overflow_y": null,
      "padding": null,
      "right": null,
      "top": null,
      "visibility": null,
      "width": null
     }
    }
   }
  }
 },
 "nbformat": 4,
 "nbformat_minor": 1
}
